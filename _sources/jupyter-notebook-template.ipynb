{
 "cells": [
  {
   "cell_type": "markdown",
   "metadata": {
    "tags": [
     "logo"
    ]
   },
   "source": [
    "[![logo](https://climate.copernicus.eu/sites/default/files/custom-uploads/branding/LogoLine_horizon_C3S.png)](https://climate.copernicus.eu)"
   ]
  },
  {
   "cell_type": "markdown",
   "metadata": {},
   "source": [
    "The logoline above is valid for C3S. For CAMS, joint services and other logo options, please see links to other logolines here https://climate.copernicus.eu/branding-guidelines#Logolines."
   ]
  },
  {
   "cell_type": "markdown",
   "metadata": {},
   "source": [
    "# Title"
   ]
  },
  {
   "cell_type": "markdown",
   "metadata": {
    "tags": [
     "run"
    ]
   },
   "source": [
    "**Run the tutorial via free cloud platforms**: [![binder](https://mybinder.org/badge.svg)](https://mybinder.org/v2/gh/ecmwf-training/jupyter-template/main?labpath=jupyter-notebook-template.ipynb)\n",
    "[![kaggle](https://kaggle.com/static/images/open-in-kaggle.svg)](https://kaggle.com/kernels/welcome?src=https://github.com/ecmwf-training/jupyter-template/blob/main/jupyter-notebook-template.ipynb)\n",
    "[![colab](https://colab.research.google.com/assets/colab-badge.svg)](https://colab.research.google.com/github/ecmwf-training/jupyter-template/blob/main/jupyter-notebook-template.ipynb)\n"
   ]
  },
  {
   "cell_type": "markdown",
   "metadata": {
    "tags": [
     "objectives"
    ]
   },
   "source": [
    "## Learning objectives 🎯"
   ]
  },
  {
   "cell_type": "markdown",
   "metadata": {
    "tags": [
     "objectives"
    ]
   },
   "source": [
    "Brief description of what a user can expect to achieve with this notebook."
   ]
  },
  {
   "cell_type": "markdown",
   "metadata": {
    "tags": [
     "install"
    ]
   },
   "source": [
    "## Initial setup"
   ]
  },
  {
   "cell_type": "markdown",
   "metadata": {
    "tags": [
     "install",
     "api"
    ]
   },
   "source": [
    "Before we begin we must prepare our environment. This includes installing the Application Programming Interface (API) of the Climate Data Store (CDS), setting up our CDS API credentials and importing the various Python libraries that we will need."
   ]
  },
  {
   "cell_type": "code",
   "execution_count": 1,
   "metadata": {
    "tags": [
     "install",
     "api"
    ]
   },
   "outputs": [],
   "source": [
    "# Ensure that the cdsapi package is installed\n",
    "!pip install -q cdsapi"
   ]
  },
  {
   "cell_type": "markdown",
   "metadata": {
    "tags": [
     "install"
    ]
   },
   "source": [
    "Include installation instructions for other packages, if necessary. However, in training events it is convenient to use free Jupyter platforms that already have key libraries (such as numpy, matplotlib, etc.) installed. These platforms differ, for example Colab does not include Cartopy, which can be installed by adding the line of code `!pip install cartopy`. Binder creates a bespoke environment from your environment.yml file, but this can take some time to create."
   ]
  },
  {
   "cell_type": "markdown",
   "metadata": {
    "tags": [
     "api"
    ]
   },
   "source": [
    "### Add your CDS API credentials"
   ]
  },
  {
   "cell_type": "markdown",
   "metadata": {
    "tags": [
     "api"
    ]
   },
   "source": [
    "To set up your CDS API credentials, please login/register on the [CDS](https://cds-beta.climate.copernicus.eu/), then follow the [instructions here](https://cds-beta.climate.copernicus.eu/how-to-api) to obtain your API key.\n",
    "\n",
    "You can add this API key to your current session by uncommenting the code below and replacing `#########` with your API key."
   ]
  },
  {
   "cell_type": "code",
   "execution_count": 2,
   "metadata": {
    "tags": [
     "api"
    ]
   },
   "outputs": [],
   "source": [
    "# import os\n",
    "# os.environ['CDSAPI_URL'] = 'https://cds.climate.copernicus.eu/api/v2'\n",
    "# os.environ['CDSAPI_KEY'] = '##################################'"
   ]
  },
  {
   "cell_type": "markdown",
   "metadata": {
    "tags": [
     "import"
    ]
   },
   "source": [
    "### Import libraries"
   ]
  },
  {
   "cell_type": "markdown",
   "metadata": {
    "tags": [
     "import"
    ]
   },
   "source": [
    "Briefly describe libraries in Markdown cells, before listing the imports in code cell(s). E.g. \"We will be working with data in NetCDF format. To best handle this data we will use libraries for working with multidimensional arrays, in particular Xarray. We will also need libraries for plotting and viewing data, in this case we will use Matplotlib and Cartopy.\""
   ]
  },
  {
   "cell_type": "code",
   "execution_count": 3,
   "metadata": {
    "tags": [
     "import"
    ]
   },
   "outputs": [
    {
     "name": "stderr",
     "output_type": "stream",
     "text": [
      "/opt/homebrew/Caskroom/miniforge/base/envs/CDS/lib/python3.11/site-packages/pyproj/__init__.py:89: UserWarning: pyproj unable to set database path.\n",
      "  _pyproj_global_context_initialize()\n"
     ]
    }
   ],
   "source": [
    "# CDS API\n",
    "import cdsapi\n",
    "\n",
    "# Libraries for working with multidimensional arrays\n",
    "import numpy as np\n",
    "import xarray as xr\n",
    "\n",
    "# Libraries for plotting and visualising data\n",
    "import matplotlib.pyplot as plt\n",
    "import cartopy.crs as ccrs"
   ]
  },
  {
   "cell_type": "markdown",
   "metadata": {},
   "source": [
    "Here we specify a data directory in which we will download our data and all output files that we will generate:"
   ]
  },
  {
   "cell_type": "code",
   "execution_count": 5,
   "metadata": {},
   "outputs": [],
   "source": [
    "DATADIR = '.'"
   ]
  },
  {
   "cell_type": "markdown",
   "metadata": {},
   "source": [
    "## Explore and download data"
   ]
  },
  {
   "cell_type": "markdown",
   "metadata": {},
   "source": [
    "Paragraph explaining how to select the data used in this training notebook, include a link to the catalogue entry and a description of the selection options. Make it clear that at the end of the download form of the CDS/ADS, users must select **\"Show API request\"**. This will reveal a block of code, which can simply be copied and pasted into a cell of the Jupyter Notebook."
   ]
  },
  {
   "cell_type": "markdown",
   "metadata": {},
   "source": [
    ":warning: Please remember to **accept the terms and conditions** of the dataset, at the bottom of the CDS download form!"
   ]
  },
  {
   "cell_type": "markdown",
   "metadata": {
    "tags": [
     "request"
    ]
   },
   "source": [
    "### Download data"
   ]
  },
  {
   "cell_type": "markdown",
   "metadata": {
    "tags": [
     "request"
    ]
   },
   "source": [
    "With the API request copied into the cell below, running this cell will retrieve and download the data you requested into your local directory."
   ]
  },
  {
   "cell_type": "code",
   "execution_count": 6,
   "metadata": {
    "tags": [
     "request"
    ]
   },
   "outputs": [
    {
     "name": "stderr",
     "output_type": "stream",
     "text": [
      "2024-08-29 15:18:41,821 INFO Request ID is 470645da-5244-4792-a566-abfb9b2a81f4\n",
      "2024-08-29 15:18:41,881 INFO status has been updated to accepted\n"
     ]
    }
   ],
   "source": [
    "c = cdsapi.Client()\n",
    "c.retrieve(\n",
    "    'reanalysis-era5-single-levels-monthly-means',\n",
    "    {\n",
    "        'product_type': 'monthly_averaged_reanalysis',\n",
    "        'variable': '2m_temperature',\n",
    "        'year': [\n",
    "            '2018', '2019', '2020',\n",
    "        ],\n",
    "        'month': [\n",
    "            '01', '02', '03',\n",
    "        ],\n",
    "        'time': '00:00',\n",
    "        'area': [\n",
    "            72, -25, 34, 40,\n",
    "        ],\n",
    "        'format': 'netcdf',\n",
    "    },\n",
    "    f'{DATADIR}/era5_monthly_t2m_eur.nc')"
   ]
  },
  {
   "cell_type": "markdown",
   "metadata": {},
   "source": [
    "## Inspect data"
   ]
  },
  {
   "cell_type": "markdown",
   "metadata": {},
   "source": [
    "Explain how to open the downloaded data with xarray/earthkit, and give a description of what is in that file:\n",
    "\n",
    "- Explain the features of this data\n",
    "- Any interesting aspects, e.g. multiple time-dimensions\n",
    "- Explain any modifications that are made/additional arguments used when reading the data\n",
    "\n",
    "*EXAMPLE*:\n",
    "\n",
    "\n"
   ]
  },
  {
   "cell_type": "code",
   "execution_count": 8,
   "metadata": {},
   "outputs": [],
   "source": [
    "# Path to the downloaded file\n",
    "t2m = f'{DATADIR}/era5_monthly_t2m_eur.nc'\n",
    "\n",
    "# Create Xarray Dataset\n",
    "ds = xr.open_dataset(t2m)\n",
    "\n",
    "# view the dataset\n",
    "ds"
   ]
  },
  {
   "cell_type": "markdown",
   "metadata": {},
   "source": [
    "## Data processing, such as unit conversion, aggregation, etc."
   ]
  },
  {
   "cell_type": "markdown",
   "metadata": {},
   "source": [
    "## Data visualisation"
   ]
  },
  {
   "cell_type": "markdown",
   "metadata": {},
   "source": [
    "Explain how to visualise the data in e.g. maps, animations, time series plots, etc. Keep code to a minimum, using e.g. xarray/earthkit, or e.g. matplotlib and cartopy for more custom figures."
   ]
  },
  {
   "cell_type": "markdown",
   "metadata": {
    "tags": [
     "key-messages"
    ]
   },
   "source": [
    "## Take home messages 📌"
   ]
  },
  {
   "cell_type": "markdown",
   "metadata": {
    "tags": [
     "key-messages"
    ]
   },
   "source": [
    "Summarise key take home messages."
   ]
  },
  {
   "cell_type": "code",
   "execution_count": null,
   "metadata": {},
   "outputs": [],
   "source": []
  }
 ],
 "metadata": {
  "kernelspec": {
   "display_name": "Python 3 (ipykernel)",
   "language": "python",
   "name": "python3"
  },
  "language_info": {
   "codemirror_mode": {
    "name": "ipython",
    "version": 3
   },
   "file_extension": ".py",
   "mimetype": "text/x-python",
   "name": "python",
   "nbconvert_exporter": "python",
   "pygments_lexer": "ipython3",
   "version": "3.10.9"
  }
 },
 "nbformat": 4,
 "nbformat_minor": 4
}
